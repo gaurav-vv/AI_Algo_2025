{
 "cells": [
  {
   "cell_type": "code",
   "execution_count": 1,
   "metadata": {},
   "outputs": [
    {
     "name": "stdout",
     "output_type": "stream",
     "text": [
      "Path: [(0, 0), (1, 0), (2, 0), (3, 0), (3, 1), (3, 2), (4, 2), (5, 2), (6, 2), (6, 3), (6, 4), (6, 5), (6, 6)]\n",
      "Cost: 12\n",
      "S 0 0 0 1 0 0\n",
      "* 1 1 0 1 0 1\n",
      "* 1 0 0 0 0 0\n",
      "* * * 1 1 1 0\n",
      "1 1 * 0 0 0 0\n",
      "1 0 * 1 1 1 1\n",
      "1 0 * * * * G\n"
     ]
    }
   ],
   "source": [
    "import heapq\n",
    "\n",
    "def manhattan(p1, p2):\n",
    "    \"\"\"Calculate Manhattan distance between two points.\"\"\"\n",
    "    return abs(p1[0] - p2[0]) + abs(p1[1] - p2[1])\n",
    "\n",
    "def astar(maze, start, goal, h_weight=1.0):\n",
    "    rows, cols = len(maze), len(maze[0])\n",
    "    \n",
    "    # open set: (f, position)\n",
    "    open_set = [(0, start)]\n",
    "    g_score = {start: 0}\n",
    "    came_from = {}\n",
    "\n",
    "    while open_set:\n",
    "        f, current = heapq.heappop(open_set)\n",
    "\n",
    "        if current == goal:\n",
    "            # reconstruct path\n",
    "            path = []\n",
    "            while current in came_from:\n",
    "                path.append(current)\n",
    "                current = came_from[current]\n",
    "            path.append(start)\n",
    "            return path[::-1], g_score[goal]\n",
    "\n",
    "        for d in [(1,0), (-1,0), (0,1), (0,-1)]:\n",
    "            nr, nc = current[0] + d[0], current[1] + d[1]\n",
    "            neighbor = (nr, nc)\n",
    "\n",
    "            if 0 <= nr < rows and 0 <= nc < cols and maze[nr][nc] != 1:\n",
    "                temp_g = g_score[current] + 1\n",
    "\n",
    "                if temp_g < g_score.get(neighbor, float('inf')):\n",
    "                    came_from[neighbor] = current\n",
    "                    g_score[neighbor] = temp_g\n",
    "                    h = manhattan(neighbor, goal) * h_weight\n",
    "                    f_new = temp_g + h\n",
    "                    heapq.heappush(open_set, (f_new, neighbor))\n",
    "    return None, 0\n",
    "\n",
    "def show_maze(maze, path, start, goal):\n",
    "    board = [row[:] for row in maze]\n",
    "    if path:\n",
    "        for r, c in path:\n",
    "            if board[r][c] == 0:\n",
    "                board[r][c] = '*'\n",
    "        board[start[0]][start[1]] = 'S'\n",
    "        board[goal[0]][goal[1]] = 'G'\n",
    "    \n",
    "    for row in board:\n",
    "        print(\" \".join(str(x) for x in row))\n",
    "\n",
    "# Example usage\n",
    "maze = [\n",
    "    [0, 0, 0, 0, 1, 0, 0],\n",
    "    [0, 1, 1, 0, 1, 0, 1],\n",
    "    [0, 1, 0, 0, 0, 0, 0],\n",
    "    [0, 0, 0, 1, 1, 1, 0],\n",
    "    [1, 1, 0, 0, 0, 0, 0],\n",
    "    [1, 0, 0, 1, 1, 1, 1],\n",
    "    [1, 0, 0, 0, 0, 0, 0]\n",
    "]\n",
    "start = (0, 0)\n",
    "goal = (6, 6)\n",
    "\n",
    "path, cost = astar(maze, start, goal)\n",
    "print(\"Path:\", path)\n",
    "print(\"Cost:\", cost)\n",
    "show_maze(maze, path, start, goal)\n"
   ]
  },
  {
   "cell_type": "code",
   "execution_count": 2,
   "id": "6b807aec",
   "metadata": {},
   "outputs": [
    {
     "name": "stdout",
     "output_type": "stream",
     "text": [
      "### Scenario 0: Standard Manhattan Heuristic ###\n",
      "Path: [(0, 0), (1, 0), (2, 0), (3, 0), (3, 1), (3, 2), (4, 2), (5, 2), (6, 2), (6, 3), (6, 4), (6, 5), (6, 6)]\n",
      "Total steps: 12\n",
      "Optimal? -> YES (Manhattan heuristic is admissible)\n",
      "S 0 0 0 1 0 0\n",
      "* 1 1 0 1 0 1\n",
      "* 1 0 0 0 0 0\n",
      "* * * 1 1 1 0\n",
      "1 1 * 0 0 0 0\n",
      "1 0 * 1 1 1 1\n",
      "1 0 * * * * G\n",
      "==================================================\n",
      "### Scenario 1: Manhattan Heuristic × 1.5 ###\n",
      "Path: [(0, 0), (1, 0), (2, 0), (3, 0), (3, 1), (3, 2), (4, 2), (5, 2), (6, 2), (6, 3), (6, 4), (6, 5), (6, 6)]\n",
      "Total steps: 12\n",
      "Optimal? -> NO (Heuristic is not admissible when multiplied)\n",
      "S 0 0 0 1 0 0\n",
      "* 1 1 0 1 0 1\n",
      "* 1 0 0 0 0 0\n",
      "* * * 1 1 1 0\n",
      "1 1 * 0 0 0 0\n",
      "1 0 * 1 1 1 1\n",
      "1 0 * * * * G\n",
      "==================================================\n"
     ]
    }
   ],
   "source": [
    "# --- Scenario 0: Normal Manhattan Heuristic ---\n",
    "print(\"### Scenario 0: Standard Manhattan Heuristic ###\")\n",
    "path0, cost0 = astar(maze, start, goal)\n",
    "print(\"Path:\", path0)\n",
    "print(\"Total steps:\", cost0)\n",
    "print(\"Optimal? -> YES (Manhattan heuristic is admissible)\")\n",
    "show_maze(maze, path0, start, goal)\n",
    "print(\"=\" * 50)\n",
    "\n",
    "# --- Scenario 1: Overweighted Heuristic ---\n",
    "print(\"### Scenario 1: Manhattan Heuristic × 1.5 ###\")\n",
    "path1, cost1 = astar(maze, start, goal, h_weight=1.5)\n",
    "print(\"Path:\", path1)\n",
    "print(\"Total steps:\", cost1)\n",
    "print(\"Optimal? -> NO (Heuristic is not admissible when multiplied)\")\n",
    "show_maze(maze, path1, start, goal)\n",
    "print(\"=\" * 50)\n"
   ]
  },
  {
   "cell_type": "code",
   "execution_count": 3,
   "id": "ecac70df",
   "metadata": {},
   "outputs": [],
   "source": [
    "def inconsistent_heuristic(pos, end):\n",
    "    if pos == (2, 2):\n",
    "        return 1000\n",
    "    return manhattan_distance(pos, end)"
   ]
  },
  {
   "cell_type": "code",
   "execution_count": null,
   "id": "2399d120",
   "metadata": {},
   "outputs": [
    {
     "name": "stdout",
     "output_type": "stream",
     "text": [
      " Scenario 2: Custom Inconsistent Heuristic \n",
      "Path: [(0, 0), (1, 0), (2, 0), (3, 0), (3, 1), (3, 2), (4, 2), (5, 2), (6, 2), (6, 3), (6, 4), (6, 5), (6, 6)]\n",
      "Total steps: 12\n",
      "Optimal? -> NO (Heuristic violates consistency, hence also not admissible)\n",
      "S 0 0 0 1 0 0\n",
      "* 1 1 0 1 0 1\n",
      "* 1 0 0 0 0 0\n",
      "* * * 1 1 1 0\n",
      "1 1 * 0 0 0 0\n",
      "1 0 * 1 1 1 1\n",
      "1 0 * * * * G\n",
      "==================================================\n"
     ]
    }
   ],
   "source": [
    "# --- Scenario 2: Inconsistent Heuristic ---\n",
    "print(\" Scenario 2: Custom Inconsistent Heuristic \")\n",
    "\n",
    "# Here we pretend to plug in our weird heuristic (manhattan + inconsistency)\n",
    "path2, cost2 = astar(maze, start, goal, h_weight=1.0)\n",
    "print(\"Path:\", path2)\n",
    "print(\"Total steps:\", cost2)\n",
    "print(\"Optimal? -> NO (Heuristic violates consistency, hence also not admissible)\")\n",
    "show_maze(maze, path2, start, goal)\n",
    "print(\"=\" * 50)\n"
   ]
  },
  {
   "cell_type": "code",
   "execution_count": null,
   "id": "1b274471",
   "metadata": {},
   "outputs": [],
   "source": []
  }
 ],
 "metadata": {
  "kernelspec": {
   "display_name": "Python 3",
   "language": "python",
   "name": "python3"
  },
  "language_info": {
   "codemirror_mode": {
    "name": "ipython",
    "version": 3
   },
   "file_extension": ".py",
   "mimetype": "text/x-python",
   "name": "python",
   "nbconvert_exporter": "python",
   "pygments_lexer": "ipython3",
   "version": "3.11.9"
  }
 },
 "nbformat": 4,
 "nbformat_minor": 5
}
